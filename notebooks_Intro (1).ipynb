{
  "metadata": {
    "kernelspec": {
      "name": "python",
      "display_name": "Python (Pyodide)",
      "language": "python"
    },
    "language_info": {
      "codemirror_mode": {
        "name": "python",
        "version": 3
      },
      "file_extension": ".py",
      "mimetype": "text/x-python",
      "name": "python",
      "nbconvert_exporter": "python",
      "pygments_lexer": "ipython3",
      "version": "3.8"
    }
  },
  "nbformat_minor": 5,
  "nbformat": 4,
  "cells": [
    {
      "cell_type": "markdown",
      "source": "To check the lenght of string ",
      "metadata": {},
      "id": "56f9b7ce-5d4a-473d-a029-51d446221d9e"
    },
    {
      "cell_type": "code",
      "source": "a= \"chankey\"\nprint(len(a))\n",
      "metadata": {
        "trusted": true
      },
      "execution_count": 5,
      "outputs": [
        {
          "name": "stdout",
          "text": "7\n",
          "output_type": "stream"
        }
      ],
      "id": "9c54a57f-2196-4648-a92f-d0c8c6441ea1"
    },
    {
      "cell_type": "markdown",
      "source": "Strip method",
      "metadata": {},
      "id": "6d0c5f61-4a40-4b44-8bdc-e66c1930c185"
    },
    {
      "cell_type": "code",
      "source": "a = \" pal chankey   \"\nprint(a.strip()) ",
      "metadata": {
        "trusted": true
      },
      "execution_count": 8,
      "outputs": [
        {
          "name": "stdout",
          "text": "pal chankey\n",
          "output_type": "stream"
        }
      ],
      "id": "a2474471-133d-4104-bb0c-ca2d33dca0f6"
    },
    {
      "cell_type": "code",
      "source": "a = \"pal chankey\"\nprint(a.upper()) ",
      "metadata": {
        "trusted": true
      },
      "execution_count": 10,
      "outputs": [
        {
          "name": "stdout",
          "text": "PAL CHANKEY\n",
          "output_type": "stream"
        }
      ],
      "id": "74b21863-2ee0-4187-9303-746d50df9332"
    },
    {
      "cell_type": "code",
      "source": "a = \"CHANKEY PAL\"\nprint(a.lower()) ",
      "metadata": {
        "trusted": true
      },
      "execution_count": 11,
      "outputs": [
        {
          "name": "stdout",
          "text": "chankey pal\n",
          "output_type": "stream"
        }
      ],
      "id": "596af9a2-8aa2-407e-8af5-8b37bbd4e07c"
    },
    {
      "cell_type": "code",
      "source": "a = \"rahul\"\nprint(a.replace(\"a\", \"t\"))",
      "metadata": {
        "trusted": true
      },
      "execution_count": 12,
      "outputs": [
        {
          "name": "stdout",
          "text": "rthul\n",
          "output_type": "stream"
        }
      ],
      "id": "0158a82b-e8c2-4538-9a31-9bbde2011c29"
    },
    {
      "cell_type": "code",
      "source": "a = \" pal,chankey   \"\nprint(a.split(',')) ",
      "metadata": {
        "trusted": true
      },
      "execution_count": 14,
      "outputs": [
        {
          "name": "stdout",
          "text": "[' pal', 'chankey   ']\n",
          "output_type": "stream"
        }
      ],
      "id": "4aed2992-5b28-43cd-a6e0-d6c103ffbd1e"
    },
    {
      "cell_type": "code",
      "source": "",
      "metadata": {},
      "execution_count": null,
      "outputs": [],
      "id": "da9d71a2-eda1-4b32-ac65-dacad46736d1"
    }
  ]
}