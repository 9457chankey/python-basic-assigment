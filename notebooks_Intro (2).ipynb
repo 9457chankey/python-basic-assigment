{
  "metadata": {
    "kernelspec": {
      "name": "python",
      "display_name": "Python (Pyodide)",
      "language": "python"
    },
    "language_info": {
      "codemirror_mode": {
        "name": "python",
        "version": 3
      },
      "file_extension": ".py",
      "mimetype": "text/x-python",
      "name": "python",
      "nbconvert_exporter": "python",
      "pygments_lexer": "ipython3",
      "version": "3.8"
    }
  },
  "nbformat_minor": 5,
  "nbformat": 4,
  "cells": [
    {
      "cell_type": "code",
      "source": "print( 'Hello python' )",
      "metadata": {
        "trusted": true
      },
      "execution_count": 3,
      "outputs": [
        {
          "name": "stdout",
          "text": "Hello python\n",
          "output_type": "stream"
        }
      ],
      "id": "819d0777-49dc-4a2b-bb8c-76d19368f0ae"
    },
    {
      "cell_type": "code",
      "source": "a= 25\nb= 20\nprint(a+b)",
      "metadata": {
        "trusted": true
      },
      "execution_count": 4,
      "outputs": [
        {
          "name": "stdout",
          "text": "45\n",
          "output_type": "stream"
        }
      ],
      "id": "685ee19f-7172-408f-98a9-d65105e3cfd9"
    },
    {
      "cell_type": "code",
      "source": "a= 25\nb= 20\nprint(a/b)",
      "metadata": {
        "trusted": true
      },
      "execution_count": 5,
      "outputs": [
        {
          "name": "stdout",
          "text": "1.25\n",
          "output_type": "stream"
        }
      ],
      "id": "4d4b3e0f-aaaa-45d3-97e9-820b334178fd"
    },
    {
      "cell_type": "code",
      "source": "a= 25\nb= 20\nc= 40\n\n\ns=(a+b+c)/2\narea = (s*(s-a)*(s-b)*(s-c))\nprint(area)\n",
      "metadata": {
        "trusted": true
      },
      "execution_count": 10,
      "outputs": [
        {
          "name": "stdout",
          "text": "41835.9375\n",
          "output_type": "stream"
        }
      ],
      "id": "8c2ae586-6696-4659-9679-9a291147ef45"
    },
    {
      "cell_type": "code",
      "source": "x = 10\ny = 50\n \n# Swap\ntemp = x\nx = y\ny = temp\n \nprint(\"Value of x:\", x)\nprint(\"Value of y:\", y)",
      "metadata": {
        "trusted": true
      },
      "execution_count": 11,
      "outputs": [
        {
          "name": "stdout",
          "text": "Value of x: 50\nValue of y: 10\n",
          "output_type": "stream"
        }
      ],
      "id": "112b8fc7-57b7-4fd2-95a1-37820ccbb95c"
    },
    {
      "cell_type": "code",
      "source": "",
      "metadata": {},
      "execution_count": null,
      "outputs": [],
      "id": "7172a8c2-82ab-4b6b-84d2-9fc51b47639a"
    }
  ]
}