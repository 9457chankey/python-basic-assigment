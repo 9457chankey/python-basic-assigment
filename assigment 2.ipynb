{
 "cells": [
  {
   "cell_type": "markdown",
   "id": "667bd089",
   "metadata": {},
   "source": [
    "# Assigment\n",
    "#1 TO find the factorial of numbers\n",
    "#2 to print the table\n"
   ]
  },
  {
   "cell_type": "code",
   "execution_count": null,
   "id": "0476e2af",
   "metadata": {},
   "outputs": [],
   "source": [
    "\n",
    "n = int (input (\"Enter a number:\" ))\n",
    "\n",
    "factorial = 1\n",
    "\n",
    "if n >= 1:\n",
    "\n",
    "              for i in range (1, n+1):\n",
    "\n",
    "                             factorial = factorial *i\n",
    "\n",
    "print (\"Factorial  is: \", factorial)\n"
   ]
  },
  {
   "cell_type": "code",
   "execution_count": null,
   "id": "40cc4ff6",
   "metadata": {},
   "outputs": [],
   "source": [
    "n = int(input(\"enter the number\"))\n",
    "for i in range(1,11):\n",
    " print(n,\"*\",i,\"=\",n*i)\n",
    "               "
   ]
  },
  {
   "cell_type": "code",
   "execution_count": 18,
   "id": "98e06606",
   "metadata": {},
   "outputs": [
    {
     "name": "stdout",
     "output_type": "stream",
     "text": [
      "enter the number5\n",
      "1\n",
      "1\n",
      "2\n",
      "3\n",
      "5\n"
     ]
    }
   ],
   "source": [
    "n=int(input(\"enter the number\"))\n",
    "a=0\n",
    "b=1\n",
    "for i in range (1,n+1):\n",
    "    if (i<=1):\n",
    "        next=i\n",
    "    else:\n",
    "        next=a+b\n",
    "        a=b\n",
    "        b=next\n",
    "    print(next)\n",
    "            \n",
    "    \n"
   ]
  },
  {
   "cell_type": "code",
   "execution_count": null,
   "id": "7adba498",
   "metadata": {},
   "outputs": [],
   "source": [
    "tuple1 =(\"w\")\n",
    "print(len(tuple1))\n",
    "print(type(tuple1))\n",
    "tuple.\n",
    "\n"
   ]
  },
  {
   "cell_type": "markdown",
   "id": "9a26f570",
   "metadata": {},
   "source": [
    "2.Write a Python program to convert kilometers to miles?\n",
    "3. celsius to fahrenheit "
   ]
  },
  {
   "cell_type": "code",
   "execution_count": 24,
   "id": "cad1c560",
   "metadata": {},
   "outputs": [
    {
     "name": "stdout",
     "output_type": "stream",
     "text": [
      "enter the  kilomiter :89\n",
      "kilometer to miles 55.30193\n"
     ]
    }
   ],
   "source": [
    "num1=float(input(\"enter the  kilomiter :\"))\n",
    "kilometer=0.62137\n",
    "miles=num1*kilometer\n",
    "print(\"kilometer to miles\",miles)"
   ]
  },
  {
   "cell_type": "code",
   "execution_count": 25,
   "id": "dcb48987",
   "metadata": {},
   "outputs": [
    {
     "name": "stdout",
     "output_type": "stream",
     "text": [
      "enter the number90\n",
      "convert celsius to fehreheit 194.0\n"
     ]
    }
   ],
   "source": [
    "celsius =float(input(\"enter the number\"))\n",
    "fahrenheit=(celsius *1.8)+32\n",
    "print(\"convert celsius to fehreheit\",fahrenheit)"
   ]
  },
  {
   "cell_type": "code",
   "execution_count": 26,
   "id": "bfcf5f72",
   "metadata": {},
   "outputs": [
    {
     "name": "stdout",
     "output_type": "stream",
     "text": [
      "Value of x: 50\n",
      "Value of y: 10\n"
     ]
    }
   ],
   "source": [
    "x = 10\n",
    "y = 50\n",
    " \n",
    "x,y=y,x\n",
    " \n",
    "print(\"Value of x:\", x)\n",
    "print(\"Value of y:\", y)\n"
   ]
  },
  {
   "cell_type": "code",
   "execution_count": null,
   "id": "2585b514",
   "metadata": {},
   "outputs": [],
   "source": []
  }
 ],
 "metadata": {
  "kernelspec": {
   "display_name": "Python 3 (ipykernel)",
   "language": "python",
   "name": "python3"
  },
  "language_info": {
   "codemirror_mode": {
    "name": "ipython",
    "version": 3
   },
   "file_extension": ".py",
   "mimetype": "text/x-python",
   "name": "python",
   "nbconvert_exporter": "python",
   "pygments_lexer": "ipython3",
   "version": "3.10.9"
  }
 },
 "nbformat": 4,
 "nbformat_minor": 5
}
