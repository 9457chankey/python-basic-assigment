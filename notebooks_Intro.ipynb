{
  "metadata": {
    "kernelspec": {
      "name": "python",
      "display_name": "Python (Pyodide)",
      "language": "python"
    },
    "language_info": {
      "codemirror_mode": {
        "name": "python",
        "version": 3
      },
      "file_extension": ".py",
      "mimetype": "text/x-python",
      "name": "python",
      "nbconvert_exporter": "python",
      "pygments_lexer": "ipython3",
      "version": "3.8"
    }
  },
  "nbformat_minor": 5,
  "nbformat": 4,
  "cells": [
    {
      "cell_type": "markdown",
      "source": "#Indexing $ #slicing",
      "metadata": {},
      "id": "2c4b9bc4-9d68-4f6b-92fb-63a703a2a08c"
    },
    {
      "cell_type": "code",
      "source": "a=\"chankey\"\nprint(a[-5])\nprint(a[5])\nprint(a[2:3])\nprint(a[1:2])\nprint(a[1:2:3])\nprint(a[2:5:6])\nprint(a[-2:-5:-1])",
      "metadata": {
        "trusted": true
      },
      "execution_count": 4,
      "outputs": [
        {
          "name": "stdout",
          "text": "a\ne\na\nh\nh\na\nekn\n",
          "output_type": "stream"
        }
      ],
      "id": "09f1e1c2-91ad-4b06-b478-6824386439e8"
    },
    {
      "cell_type": "code",
      "source": "",
      "metadata": {},
      "execution_count": null,
      "outputs": [],
      "id": "9c54a57f-2196-4648-a92f-d0c8c6441ea1"
    }
  ]
}