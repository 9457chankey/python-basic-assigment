{
  "metadata": {
    "kernelspec": {
      "name": "python",
      "display_name": "Python (Pyodide)",
      "language": "python"
    },
    "language_info": {
      "codemirror_mode": {
        "name": "python",
        "version": 3
      },
      "file_extension": ".py",
      "mimetype": "text/x-python",
      "name": "python",
      "nbconvert_exporter": "python",
      "pygments_lexer": "ipython3",
      "version": "3.8"
    }
  },
  "nbformat_minor": 5,
  "nbformat": 4,
  "cells": [
    {
      "cell_type": "code",
      "source": "'spam'+'spamspam'\n'spam'* 3\n\n",
      "metadata": {
        "trusted": true
      },
      "execution_count": 1,
      "outputs": [
        {
          "execution_count": 1,
          "output_type": "execute_result",
          "data": {
            "text/plain": "'spamspamspam'"
          },
          "metadata": {}
        }
      ],
      "id": "71ca9e87-ce3a-472a-9db5-a35d1696ac69"
    },
    {
      "cell_type": "code",
      "source": "bacon=22\nbacon+1",
      "metadata": {
        "trusted": true
      },
      "execution_count": 3,
      "outputs": [
        {
          "execution_count": 3,
          "output_type": "execute_result",
          "data": {
            "text/plain": "23"
          },
          "metadata": {}
        }
      ],
      "id": "7c1468f4-ab48-49c9-a1fe-0aebbdf1160d"
    },
    {
      "cell_type": "code",
      "source": "'i have eaten'+'99'+'burritos'",
      "metadata": {
        "trusted": true
      },
      "execution_count": 6,
      "outputs": [
        {
          "execution_count": 6,
          "output_type": "execute_result",
          "data": {
            "text/plain": "'i have eaten99burritos'"
          },
          "metadata": {}
        }
      ],
      "id": "4eaa8632-7c99-4b62-b4ba-0a6ba42049e7"
    },
    {
      "cell_type": "code",
      "source": "'spam'*3",
      "metadata": {
        "trusted": true
      },
      "execution_count": 1,
      "outputs": [
        {
          "execution_count": 1,
          "output_type": "execute_result",
          "data": {
            "text/plain": "'spamspamspam'"
          },
          "metadata": {}
        }
      ],
      "id": "bca97ffb-cc20-4f8a-b1c3-831d1aa2993c"
    },
    {
      "cell_type": "code",
      "source": "",
      "metadata": {},
      "execution_count": null,
      "outputs": [],
      "id": "c5527edc-af78-4e5d-a338-61d1dc98eb00"
    }
  ]
}