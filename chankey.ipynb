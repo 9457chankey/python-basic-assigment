{
 "cells": [
  {
   "cell_type": "code",
   "execution_count": 1,
   "id": "3c4a5ff3",
   "metadata": {},
   "outputs": [
    {
     "data": {
      "text/plain": [
       "'C:\\\\Users\\\\baba'"
      ]
     },
     "execution_count": 1,
     "metadata": {},
     "output_type": "execute_result"
    }
   ],
   "source": [
    "pwd"
   ]
  },
  {
   "cell_type": "code",
   "execution_count": 2,
   "id": "2ea66351",
   "metadata": {},
   "outputs": [
    {
     "data": {
      "text/plain": [
       "'C:\\\\Users\\\\baba'"
      ]
     },
     "execution_count": 2,
     "metadata": {},
     "output_type": "execute_result"
    }
   ],
   "source": [
    "pwd"
   ]
  },
  {
   "cell_type": "markdown",
   "id": "1e750b18",
   "metadata": {},
   "source": [
    "#Task1"
   ]
  },
  {
   "cell_type": "code",
   "execution_count": 33,
   "id": "da9e8a6f",
   "metadata": {},
   "outputs": [
    {
     "name": "stdout",
     "output_type": "stream",
     "text": [
      "enter the password dk\n",
      "worng password\n"
     ]
    }
   ],
   "source": [
    "with  open(\"c1.txt\",\"r+\") as p:\n",
    "    u= input(\"enter the password \") \n",
    "    if(u == p.read()):\n",
    "           webbrowser.open('https://www.google.com/')\n",
    "    else:\n",
    "        print(\"worng password\")\n",
    "    \n"
   ]
  },
  {
   "cell_type": "code",
   "execution_count": 31,
   "id": "80829584",
   "metadata": {},
   "outputs": [],
   "source": [
    "import webbrowser"
   ]
  },
  {
   "cell_type": "markdown",
   "id": "93b8731f",
   "metadata": {},
   "source": [
    "#Task2"
   ]
  },
  {
   "cell_type": "code",
   "execution_count": 40,
   "id": "e4b85db9",
   "metadata": {},
   "outputs": [
    {
     "name": "stdout",
     "output_type": "stream",
     "text": [
      "enter the username:ch\n",
      "enter the password12\n",
      "enter the usernamekl\n",
      "enter the password34\n",
      "wong id pwd\n"
     ]
    }
   ],
   "source": [
    "c11 = open(\"cusername\",'x')\n",
    "with open(\"cusername.txt\",\"w\") as c:\n",
    "    user=input(\"enter the username:\")\n",
    "c22 = open(\"cpasword\",'x')\n",
    "with open(\"cpasword.txt\",'w') as l:\n",
    "    password=input(\"enter the password\")\n",
    "    user1=input(\"enter the username\")\n",
    "    password1=input(\"enter the password\")\n",
    "    if(user1==user and password1==password):\n",
    "         webbrowser.open('https://www.google.com/')\n",
    "    else:\n",
    "        print(\"wong id pwd\")\n",
    "    \n",
    "    "
   ]
  },
  {
   "cell_type": "code",
   "execution_count": null,
   "id": "fca05a39",
   "metadata": {},
   "outputs": [],
   "source": []
  }
 ],
 "metadata": {
  "kernelspec": {
   "display_name": "Python 3 (ipykernel)",
   "language": "python",
   "name": "python3"
  },
  "language_info": {
   "codemirror_mode": {
    "name": "ipython",
    "version": 3
   },
   "file_extension": ".py",
   "mimetype": "text/x-python",
   "name": "python",
   "nbconvert_exporter": "python",
   "pygments_lexer": "ipython3",
   "version": "3.10.9"
  }
 },
 "nbformat": 4,
 "nbformat_minor": 5
}
